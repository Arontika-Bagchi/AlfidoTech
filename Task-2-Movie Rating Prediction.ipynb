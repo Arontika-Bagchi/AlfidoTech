{
 "cells": [
  {
   "cell_type": "markdown",
   "id": "602b672e",
   "metadata": {},
   "source": [
    "# Importing Libraries"
   ]
  },
  {
   "cell_type": "code",
   "execution_count": 113,
   "id": "e1ca00c7",
   "metadata": {},
   "outputs": [],
   "source": [
    "import numpy as np\n",
    "import pandas as pd\n",
    "import matplotlib.pyplot as plt\n",
    "import seaborn as sns\n",
    "import warnings\n",
    "warnings.filterwarnings('ignore')"
   ]
  },
  {
   "cell_type": "raw",
   "id": "8539f8d7",
   "metadata": {},
   "source": [
    "Laoding Datasets"
   ]
  },
  {
   "cell_type": "markdown",
   "id": "9969a020",
   "metadata": {},
   "source": [
    "# Movie Data"
   ]
  },
  {
   "cell_type": "code",
   "execution_count": 114,
   "id": "26d175e1",
   "metadata": {},
   "outputs": [],
   "source": [
    "data_movie=pd.read_csv(\"E:\\\\AlfidoTech\\\\Task-2\\\\archive (1)\\\\movies.dat\",sep='::',engine='python',encoding='latin',names=['MovieIDs','MovieName','Category'])"
   ]
  },
  {
   "cell_type": "code",
   "execution_count": 115,
   "id": "48562475",
   "metadata": {},
   "outputs": [
    {
     "data": {
      "text/html": [
       "<div>\n",
       "<style scoped>\n",
       "    .dataframe tbody tr th:only-of-type {\n",
       "        vertical-align: middle;\n",
       "    }\n",
       "\n",
       "    .dataframe tbody tr th {\n",
       "        vertical-align: top;\n",
       "    }\n",
       "\n",
       "    .dataframe thead th {\n",
       "        text-align: right;\n",
       "    }\n",
       "</style>\n",
       "<table border=\"1\" class=\"dataframe\">\n",
       "  <thead>\n",
       "    <tr style=\"text-align: right;\">\n",
       "      <th></th>\n",
       "      <th>MovieIDs</th>\n",
       "      <th>MovieName</th>\n",
       "      <th>Category</th>\n",
       "    </tr>\n",
       "  </thead>\n",
       "  <tbody>\n",
       "    <tr>\n",
       "      <th>0</th>\n",
       "      <td>1</td>\n",
       "      <td>Toy Story (1995)</td>\n",
       "      <td>Animation|Children's|Comedy</td>\n",
       "    </tr>\n",
       "    <tr>\n",
       "      <th>1</th>\n",
       "      <td>2</td>\n",
       "      <td>Jumanji (1995)</td>\n",
       "      <td>Adventure|Children's|Fantasy</td>\n",
       "    </tr>\n",
       "    <tr>\n",
       "      <th>2</th>\n",
       "      <td>3</td>\n",
       "      <td>Grumpier Old Men (1995)</td>\n",
       "      <td>Comedy|Romance</td>\n",
       "    </tr>\n",
       "    <tr>\n",
       "      <th>3</th>\n",
       "      <td>4</td>\n",
       "      <td>Waiting to Exhale (1995)</td>\n",
       "      <td>Comedy|Drama</td>\n",
       "    </tr>\n",
       "    <tr>\n",
       "      <th>4</th>\n",
       "      <td>5</td>\n",
       "      <td>Father of the Bride Part II (1995)</td>\n",
       "      <td>Comedy</td>\n",
       "    </tr>\n",
       "  </tbody>\n",
       "</table>\n",
       "</div>"
      ],
      "text/plain": [
       "   MovieIDs                           MovieName                      Category\n",
       "0         1                    Toy Story (1995)   Animation|Children's|Comedy\n",
       "1         2                      Jumanji (1995)  Adventure|Children's|Fantasy\n",
       "2         3             Grumpier Old Men (1995)                Comedy|Romance\n",
       "3         4            Waiting to Exhale (1995)                  Comedy|Drama\n",
       "4         5  Father of the Bride Part II (1995)                        Comedy"
      ]
     },
     "execution_count": 115,
     "metadata": {},
     "output_type": "execute_result"
    }
   ],
   "source": [
    "data_movie.dropna(inplace=True)\n",
    "data_movie.head()"
   ]
  },
  {
   "cell_type": "code",
   "execution_count": 116,
   "id": "fae7c198",
   "metadata": {},
   "outputs": [
    {
     "data": {
      "text/plain": [
       "(3883, 3)"
      ]
     },
     "execution_count": 116,
     "metadata": {},
     "output_type": "execute_result"
    }
   ],
   "source": [
    "data_movie.shape"
   ]
  },
  {
   "cell_type": "code",
   "execution_count": 117,
   "id": "db59ed33",
   "metadata": {},
   "outputs": [
    {
     "data": {
      "text/html": [
       "<div>\n",
       "<style scoped>\n",
       "    .dataframe tbody tr th:only-of-type {\n",
       "        vertical-align: middle;\n",
       "    }\n",
       "\n",
       "    .dataframe tbody tr th {\n",
       "        vertical-align: top;\n",
       "    }\n",
       "\n",
       "    .dataframe thead th {\n",
       "        text-align: right;\n",
       "    }\n",
       "</style>\n",
       "<table border=\"1\" class=\"dataframe\">\n",
       "  <thead>\n",
       "    <tr style=\"text-align: right;\">\n",
       "      <th></th>\n",
       "      <th>MovieIDs</th>\n",
       "    </tr>\n",
       "  </thead>\n",
       "  <tbody>\n",
       "    <tr>\n",
       "      <th>count</th>\n",
       "      <td>3883.000000</td>\n",
       "    </tr>\n",
       "    <tr>\n",
       "      <th>mean</th>\n",
       "      <td>1986.049446</td>\n",
       "    </tr>\n",
       "    <tr>\n",
       "      <th>std</th>\n",
       "      <td>1146.778349</td>\n",
       "    </tr>\n",
       "    <tr>\n",
       "      <th>min</th>\n",
       "      <td>1.000000</td>\n",
       "    </tr>\n",
       "    <tr>\n",
       "      <th>25%</th>\n",
       "      <td>982.500000</td>\n",
       "    </tr>\n",
       "    <tr>\n",
       "      <th>50%</th>\n",
       "      <td>2010.000000</td>\n",
       "    </tr>\n",
       "    <tr>\n",
       "      <th>75%</th>\n",
       "      <td>2980.500000</td>\n",
       "    </tr>\n",
       "    <tr>\n",
       "      <th>max</th>\n",
       "      <td>3952.000000</td>\n",
       "    </tr>\n",
       "  </tbody>\n",
       "</table>\n",
       "</div>"
      ],
      "text/plain": [
       "          MovieIDs\n",
       "count  3883.000000\n",
       "mean   1986.049446\n",
       "std    1146.778349\n",
       "min       1.000000\n",
       "25%     982.500000\n",
       "50%    2010.000000\n",
       "75%    2980.500000\n",
       "max    3952.000000"
      ]
     },
     "execution_count": 117,
     "metadata": {},
     "output_type": "execute_result"
    }
   ],
   "source": [
    "data_movie.describe()"
   ]
  },
  {
   "cell_type": "code",
   "execution_count": 118,
   "id": "4b9d2d29",
   "metadata": {},
   "outputs": [
    {
     "data": {
      "text/plain": [
       "MovieIDs     0\n",
       "MovieName    0\n",
       "Category     0\n",
       "dtype: int64"
      ]
     },
     "execution_count": 118,
     "metadata": {},
     "output_type": "execute_result"
    }
   ],
   "source": [
    "data_movie.isnull().sum()"
   ]
  },
  {
   "cell_type": "markdown",
   "id": "d06a1b9a",
   "metadata": {},
   "source": [
    "# Ratings Data"
   ]
  },
  {
   "cell_type": "code",
   "execution_count": 119,
   "id": "51074bb2",
   "metadata": {},
   "outputs": [],
   "source": [
    "data_ratings=pd.read_csv(\"E:\\\\AlfidoTech\\\\Task-2\\\\archive (1)\\\\ratings.dat\",sep='::',engine='python',encoding='latin',names=['ID','MovieID','Ratings','TimeStamp'])"
   ]
  },
  {
   "cell_type": "code",
   "execution_count": 120,
   "id": "cfe3aafb",
   "metadata": {},
   "outputs": [
    {
     "data": {
      "text/html": [
       "<div>\n",
       "<style scoped>\n",
       "    .dataframe tbody tr th:only-of-type {\n",
       "        vertical-align: middle;\n",
       "    }\n",
       "\n",
       "    .dataframe tbody tr th {\n",
       "        vertical-align: top;\n",
       "    }\n",
       "\n",
       "    .dataframe thead th {\n",
       "        text-align: right;\n",
       "    }\n",
       "</style>\n",
       "<table border=\"1\" class=\"dataframe\">\n",
       "  <thead>\n",
       "    <tr style=\"text-align: right;\">\n",
       "      <th></th>\n",
       "      <th>ID</th>\n",
       "      <th>MovieID</th>\n",
       "      <th>Ratings</th>\n",
       "      <th>TimeStamp</th>\n",
       "    </tr>\n",
       "  </thead>\n",
       "  <tbody>\n",
       "    <tr>\n",
       "      <th>0</th>\n",
       "      <td>1</td>\n",
       "      <td>1193</td>\n",
       "      <td>5</td>\n",
       "      <td>978300760</td>\n",
       "    </tr>\n",
       "    <tr>\n",
       "      <th>1</th>\n",
       "      <td>1</td>\n",
       "      <td>661</td>\n",
       "      <td>3</td>\n",
       "      <td>978302109</td>\n",
       "    </tr>\n",
       "    <tr>\n",
       "      <th>2</th>\n",
       "      <td>1</td>\n",
       "      <td>914</td>\n",
       "      <td>3</td>\n",
       "      <td>978301968</td>\n",
       "    </tr>\n",
       "    <tr>\n",
       "      <th>3</th>\n",
       "      <td>1</td>\n",
       "      <td>3408</td>\n",
       "      <td>4</td>\n",
       "      <td>978300275</td>\n",
       "    </tr>\n",
       "    <tr>\n",
       "      <th>4</th>\n",
       "      <td>1</td>\n",
       "      <td>2355</td>\n",
       "      <td>5</td>\n",
       "      <td>978824291</td>\n",
       "    </tr>\n",
       "    <tr>\n",
       "      <th>5</th>\n",
       "      <td>1</td>\n",
       "      <td>1197</td>\n",
       "      <td>3</td>\n",
       "      <td>978302268</td>\n",
       "    </tr>\n",
       "    <tr>\n",
       "      <th>6</th>\n",
       "      <td>1</td>\n",
       "      <td>1287</td>\n",
       "      <td>5</td>\n",
       "      <td>978302039</td>\n",
       "    </tr>\n",
       "    <tr>\n",
       "      <th>7</th>\n",
       "      <td>1</td>\n",
       "      <td>2804</td>\n",
       "      <td>5</td>\n",
       "      <td>978300719</td>\n",
       "    </tr>\n",
       "    <tr>\n",
       "      <th>8</th>\n",
       "      <td>1</td>\n",
       "      <td>594</td>\n",
       "      <td>4</td>\n",
       "      <td>978302268</td>\n",
       "    </tr>\n",
       "    <tr>\n",
       "      <th>9</th>\n",
       "      <td>1</td>\n",
       "      <td>919</td>\n",
       "      <td>4</td>\n",
       "      <td>978301368</td>\n",
       "    </tr>\n",
       "  </tbody>\n",
       "</table>\n",
       "</div>"
      ],
      "text/plain": [
       "   ID  MovieID  Ratings  TimeStamp\n",
       "0   1     1193        5  978300760\n",
       "1   1      661        3  978302109\n",
       "2   1      914        3  978301968\n",
       "3   1     3408        4  978300275\n",
       "4   1     2355        5  978824291\n",
       "5   1     1197        3  978302268\n",
       "6   1     1287        5  978302039\n",
       "7   1     2804        5  978300719\n",
       "8   1      594        4  978302268\n",
       "9   1      919        4  978301368"
      ]
     },
     "execution_count": 120,
     "metadata": {},
     "output_type": "execute_result"
    }
   ],
   "source": [
    "data_ratings.dropna(inplace=True)\n",
    "data_ratings.head(10)"
   ]
  },
  {
   "cell_type": "code",
   "execution_count": 121,
   "id": "c3a7c876",
   "metadata": {},
   "outputs": [
    {
     "data": {
      "text/plain": [
       "(1000209, 4)"
      ]
     },
     "execution_count": 121,
     "metadata": {},
     "output_type": "execute_result"
    }
   ],
   "source": [
    "data_ratings.shape"
   ]
  },
  {
   "cell_type": "code",
   "execution_count": 122,
   "id": "65f26f28",
   "metadata": {},
   "outputs": [
    {
     "data": {
      "text/html": [
       "<div>\n",
       "<style scoped>\n",
       "    .dataframe tbody tr th:only-of-type {\n",
       "        vertical-align: middle;\n",
       "    }\n",
       "\n",
       "    .dataframe tbody tr th {\n",
       "        vertical-align: top;\n",
       "    }\n",
       "\n",
       "    .dataframe thead th {\n",
       "        text-align: right;\n",
       "    }\n",
       "</style>\n",
       "<table border=\"1\" class=\"dataframe\">\n",
       "  <thead>\n",
       "    <tr style=\"text-align: right;\">\n",
       "      <th></th>\n",
       "      <th>ID</th>\n",
       "      <th>MovieID</th>\n",
       "      <th>Ratings</th>\n",
       "      <th>TimeStamp</th>\n",
       "    </tr>\n",
       "  </thead>\n",
       "  <tbody>\n",
       "    <tr>\n",
       "      <th>count</th>\n",
       "      <td>1.000209e+06</td>\n",
       "      <td>1.000209e+06</td>\n",
       "      <td>1.000209e+06</td>\n",
       "      <td>1.000209e+06</td>\n",
       "    </tr>\n",
       "    <tr>\n",
       "      <th>mean</th>\n",
       "      <td>3.024512e+03</td>\n",
       "      <td>1.865540e+03</td>\n",
       "      <td>3.581564e+00</td>\n",
       "      <td>9.722437e+08</td>\n",
       "    </tr>\n",
       "    <tr>\n",
       "      <th>std</th>\n",
       "      <td>1.728413e+03</td>\n",
       "      <td>1.096041e+03</td>\n",
       "      <td>1.117102e+00</td>\n",
       "      <td>1.215256e+07</td>\n",
       "    </tr>\n",
       "    <tr>\n",
       "      <th>min</th>\n",
       "      <td>1.000000e+00</td>\n",
       "      <td>1.000000e+00</td>\n",
       "      <td>1.000000e+00</td>\n",
       "      <td>9.567039e+08</td>\n",
       "    </tr>\n",
       "    <tr>\n",
       "      <th>25%</th>\n",
       "      <td>1.506000e+03</td>\n",
       "      <td>1.030000e+03</td>\n",
       "      <td>3.000000e+00</td>\n",
       "      <td>9.653026e+08</td>\n",
       "    </tr>\n",
       "    <tr>\n",
       "      <th>50%</th>\n",
       "      <td>3.070000e+03</td>\n",
       "      <td>1.835000e+03</td>\n",
       "      <td>4.000000e+00</td>\n",
       "      <td>9.730180e+08</td>\n",
       "    </tr>\n",
       "    <tr>\n",
       "      <th>75%</th>\n",
       "      <td>4.476000e+03</td>\n",
       "      <td>2.770000e+03</td>\n",
       "      <td>4.000000e+00</td>\n",
       "      <td>9.752209e+08</td>\n",
       "    </tr>\n",
       "    <tr>\n",
       "      <th>max</th>\n",
       "      <td>6.040000e+03</td>\n",
       "      <td>3.952000e+03</td>\n",
       "      <td>5.000000e+00</td>\n",
       "      <td>1.046455e+09</td>\n",
       "    </tr>\n",
       "  </tbody>\n",
       "</table>\n",
       "</div>"
      ],
      "text/plain": [
       "                 ID       MovieID       Ratings     TimeStamp\n",
       "count  1.000209e+06  1.000209e+06  1.000209e+06  1.000209e+06\n",
       "mean   3.024512e+03  1.865540e+03  3.581564e+00  9.722437e+08\n",
       "std    1.728413e+03  1.096041e+03  1.117102e+00  1.215256e+07\n",
       "min    1.000000e+00  1.000000e+00  1.000000e+00  9.567039e+08\n",
       "25%    1.506000e+03  1.030000e+03  3.000000e+00  9.653026e+08\n",
       "50%    3.070000e+03  1.835000e+03  4.000000e+00  9.730180e+08\n",
       "75%    4.476000e+03  2.770000e+03  4.000000e+00  9.752209e+08\n",
       "max    6.040000e+03  3.952000e+03  5.000000e+00  1.046455e+09"
      ]
     },
     "execution_count": 122,
     "metadata": {},
     "output_type": "execute_result"
    }
   ],
   "source": [
    "data_ratings.describe()"
   ]
  },
  {
   "cell_type": "code",
   "execution_count": 123,
   "id": "9ec00324",
   "metadata": {},
   "outputs": [
    {
     "data": {
      "text/plain": [
       "ID           0\n",
       "MovieID      0\n",
       "Ratings      0\n",
       "TimeStamp    0\n",
       "dtype: int64"
      ]
     },
     "execution_count": 123,
     "metadata": {},
     "output_type": "execute_result"
    }
   ],
   "source": [
    "data_ratings.isnull().sum()"
   ]
  },
  {
   "cell_type": "markdown",
   "id": "0687c7d4",
   "metadata": {},
   "source": [
    "# User Data"
   ]
  },
  {
   "cell_type": "code",
   "execution_count": 124,
   "id": "49680589",
   "metadata": {},
   "outputs": [],
   "source": [
    " data_user=pd.read_csv(\"E:\\\\AlfidoTech\\\\Task-2\\\\archive (1)\\\\users.dat\",sep='::',engine='python',encoding='latin',names=['UserID','Gender','Age','Ocupation','Zip-code'])"
   ]
  },
  {
   "cell_type": "code",
   "execution_count": 125,
   "id": "4fb6a657",
   "metadata": {},
   "outputs": [
    {
     "data": {
      "text/html": [
       "<div>\n",
       "<style scoped>\n",
       "    .dataframe tbody tr th:only-of-type {\n",
       "        vertical-align: middle;\n",
       "    }\n",
       "\n",
       "    .dataframe tbody tr th {\n",
       "        vertical-align: top;\n",
       "    }\n",
       "\n",
       "    .dataframe thead th {\n",
       "        text-align: right;\n",
       "    }\n",
       "</style>\n",
       "<table border=\"1\" class=\"dataframe\">\n",
       "  <thead>\n",
       "    <tr style=\"text-align: right;\">\n",
       "      <th></th>\n",
       "      <th>UserID</th>\n",
       "      <th>Gender</th>\n",
       "      <th>Age</th>\n",
       "      <th>Ocupation</th>\n",
       "      <th>Zip-code</th>\n",
       "    </tr>\n",
       "  </thead>\n",
       "  <tbody>\n",
       "    <tr>\n",
       "      <th>0</th>\n",
       "      <td>1</td>\n",
       "      <td>F</td>\n",
       "      <td>1</td>\n",
       "      <td>10</td>\n",
       "      <td>48067</td>\n",
       "    </tr>\n",
       "    <tr>\n",
       "      <th>1</th>\n",
       "      <td>2</td>\n",
       "      <td>M</td>\n",
       "      <td>56</td>\n",
       "      <td>16</td>\n",
       "      <td>70072</td>\n",
       "    </tr>\n",
       "    <tr>\n",
       "      <th>2</th>\n",
       "      <td>3</td>\n",
       "      <td>M</td>\n",
       "      <td>25</td>\n",
       "      <td>15</td>\n",
       "      <td>55117</td>\n",
       "    </tr>\n",
       "    <tr>\n",
       "      <th>3</th>\n",
       "      <td>4</td>\n",
       "      <td>M</td>\n",
       "      <td>45</td>\n",
       "      <td>7</td>\n",
       "      <td>02460</td>\n",
       "    </tr>\n",
       "    <tr>\n",
       "      <th>4</th>\n",
       "      <td>5</td>\n",
       "      <td>M</td>\n",
       "      <td>25</td>\n",
       "      <td>20</td>\n",
       "      <td>55455</td>\n",
       "    </tr>\n",
       "  </tbody>\n",
       "</table>\n",
       "</div>"
      ],
      "text/plain": [
       "   UserID Gender  Age  Ocupation Zip-code\n",
       "0       1      F    1         10    48067\n",
       "1       2      M   56         16    70072\n",
       "2       3      M   25         15    55117\n",
       "3       4      M   45          7    02460\n",
       "4       5      M   25         20    55455"
      ]
     },
     "execution_count": 125,
     "metadata": {},
     "output_type": "execute_result"
    }
   ],
   "source": [
    "data_user.dropna(inplace=True)\n",
    "data_user.head()"
   ]
  },
  {
   "cell_type": "code",
   "execution_count": 126,
   "id": "efb0b9dc",
   "metadata": {},
   "outputs": [
    {
     "data": {
      "text/plain": [
       "(6040, 5)"
      ]
     },
     "execution_count": 126,
     "metadata": {},
     "output_type": "execute_result"
    }
   ],
   "source": [
    "data_user.shape"
   ]
  },
  {
   "cell_type": "code",
   "execution_count": 127,
   "id": "dcc6777a",
   "metadata": {},
   "outputs": [
    {
     "data": {
      "text/html": [
       "<div>\n",
       "<style scoped>\n",
       "    .dataframe tbody tr th:only-of-type {\n",
       "        vertical-align: middle;\n",
       "    }\n",
       "\n",
       "    .dataframe tbody tr th {\n",
       "        vertical-align: top;\n",
       "    }\n",
       "\n",
       "    .dataframe thead th {\n",
       "        text-align: right;\n",
       "    }\n",
       "</style>\n",
       "<table border=\"1\" class=\"dataframe\">\n",
       "  <thead>\n",
       "    <tr style=\"text-align: right;\">\n",
       "      <th></th>\n",
       "      <th>UserID</th>\n",
       "      <th>Age</th>\n",
       "      <th>Ocupation</th>\n",
       "    </tr>\n",
       "  </thead>\n",
       "  <tbody>\n",
       "    <tr>\n",
       "      <th>count</th>\n",
       "      <td>6040.000000</td>\n",
       "      <td>6040.000000</td>\n",
       "      <td>6040.000000</td>\n",
       "    </tr>\n",
       "    <tr>\n",
       "      <th>mean</th>\n",
       "      <td>3020.500000</td>\n",
       "      <td>30.639238</td>\n",
       "      <td>8.146854</td>\n",
       "    </tr>\n",
       "    <tr>\n",
       "      <th>std</th>\n",
       "      <td>1743.742145</td>\n",
       "      <td>12.895962</td>\n",
       "      <td>6.329511</td>\n",
       "    </tr>\n",
       "    <tr>\n",
       "      <th>min</th>\n",
       "      <td>1.000000</td>\n",
       "      <td>1.000000</td>\n",
       "      <td>0.000000</td>\n",
       "    </tr>\n",
       "    <tr>\n",
       "      <th>25%</th>\n",
       "      <td>1510.750000</td>\n",
       "      <td>25.000000</td>\n",
       "      <td>3.000000</td>\n",
       "    </tr>\n",
       "    <tr>\n",
       "      <th>50%</th>\n",
       "      <td>3020.500000</td>\n",
       "      <td>25.000000</td>\n",
       "      <td>7.000000</td>\n",
       "    </tr>\n",
       "    <tr>\n",
       "      <th>75%</th>\n",
       "      <td>4530.250000</td>\n",
       "      <td>35.000000</td>\n",
       "      <td>14.000000</td>\n",
       "    </tr>\n",
       "    <tr>\n",
       "      <th>max</th>\n",
       "      <td>6040.000000</td>\n",
       "      <td>56.000000</td>\n",
       "      <td>20.000000</td>\n",
       "    </tr>\n",
       "  </tbody>\n",
       "</table>\n",
       "</div>"
      ],
      "text/plain": [
       "            UserID          Age    Ocupation\n",
       "count  6040.000000  6040.000000  6040.000000\n",
       "mean   3020.500000    30.639238     8.146854\n",
       "std    1743.742145    12.895962     6.329511\n",
       "min       1.000000     1.000000     0.000000\n",
       "25%    1510.750000    25.000000     3.000000\n",
       "50%    3020.500000    25.000000     7.000000\n",
       "75%    4530.250000    35.000000    14.000000\n",
       "max    6040.000000    56.000000    20.000000"
      ]
     },
     "execution_count": 127,
     "metadata": {},
     "output_type": "execute_result"
    }
   ],
   "source": [
    "data_user.describe()"
   ]
  },
  {
   "cell_type": "code",
   "execution_count": 128,
   "id": "7cdac17b",
   "metadata": {},
   "outputs": [
    {
     "data": {
      "text/html": [
       "<div>\n",
       "<style scoped>\n",
       "    .dataframe tbody tr th:only-of-type {\n",
       "        vertical-align: middle;\n",
       "    }\n",
       "\n",
       "    .dataframe tbody tr th {\n",
       "        vertical-align: top;\n",
       "    }\n",
       "\n",
       "    .dataframe thead th {\n",
       "        text-align: right;\n",
       "    }\n",
       "</style>\n",
       "<table border=\"1\" class=\"dataframe\">\n",
       "  <thead>\n",
       "    <tr style=\"text-align: right;\">\n",
       "      <th></th>\n",
       "      <th>UserID</th>\n",
       "      <th>Gender</th>\n",
       "      <th>Age</th>\n",
       "      <th>Ocupation</th>\n",
       "      <th>Zip-code</th>\n",
       "    </tr>\n",
       "  </thead>\n",
       "  <tbody>\n",
       "    <tr>\n",
       "      <th>0</th>\n",
       "      <td>1</td>\n",
       "      <td>0</td>\n",
       "      <td>1</td>\n",
       "      <td>10</td>\n",
       "      <td>48067</td>\n",
       "    </tr>\n",
       "    <tr>\n",
       "      <th>1</th>\n",
       "      <td>2</td>\n",
       "      <td>1</td>\n",
       "      <td>56</td>\n",
       "      <td>16</td>\n",
       "      <td>70072</td>\n",
       "    </tr>\n",
       "    <tr>\n",
       "      <th>2</th>\n",
       "      <td>3</td>\n",
       "      <td>1</td>\n",
       "      <td>25</td>\n",
       "      <td>15</td>\n",
       "      <td>55117</td>\n",
       "    </tr>\n",
       "    <tr>\n",
       "      <th>3</th>\n",
       "      <td>4</td>\n",
       "      <td>1</td>\n",
       "      <td>45</td>\n",
       "      <td>7</td>\n",
       "      <td>02460</td>\n",
       "    </tr>\n",
       "    <tr>\n",
       "      <th>4</th>\n",
       "      <td>5</td>\n",
       "      <td>1</td>\n",
       "      <td>25</td>\n",
       "      <td>20</td>\n",
       "      <td>55455</td>\n",
       "    </tr>\n",
       "  </tbody>\n",
       "</table>\n",
       "</div>"
      ],
      "text/plain": [
       "   UserID  Gender  Age  Ocupation Zip-code\n",
       "0       1       0    1         10    48067\n",
       "1       2       1   56         16    70072\n",
       "2       3       1   25         15    55117\n",
       "3       4       1   45          7    02460\n",
       "4       5       1   25         20    55455"
      ]
     },
     "execution_count": 128,
     "metadata": {},
     "output_type": "execute_result"
    }
   ],
   "source": [
    "from sklearn.preprocessing import LabelEncoder \n",
    "labelencoder = LabelEncoder()\n",
    "\n",
    "data_user['Gender'] = labelencoder.fit_transform(data_user['Gender'])\n",
    "data_user.head()"
   ]
  },
  {
   "cell_type": "code",
   "execution_count": 129,
   "id": "8c96c24a",
   "metadata": {},
   "outputs": [
    {
     "data": {
      "text/plain": [
       "UserID       0\n",
       "Gender       0\n",
       "Age          0\n",
       "Ocupation    0\n",
       "Zip-code     0\n",
       "dtype: int64"
      ]
     },
     "execution_count": 129,
     "metadata": {},
     "output_type": "execute_result"
    }
   ],
   "source": [
    "data_user.isnull().sum()"
   ]
  },
  {
   "cell_type": "markdown",
   "id": "49e64552",
   "metadata": {},
   "source": [
    "# Concating Data"
   ]
  },
  {
   "cell_type": "code",
   "execution_count": 130,
   "id": "3e830245",
   "metadata": {},
   "outputs": [
    {
     "data": {
      "text/html": [
       "<div>\n",
       "<style scoped>\n",
       "    .dataframe tbody tr th:only-of-type {\n",
       "        vertical-align: middle;\n",
       "    }\n",
       "\n",
       "    .dataframe tbody tr th {\n",
       "        vertical-align: top;\n",
       "    }\n",
       "\n",
       "    .dataframe thead th {\n",
       "        text-align: right;\n",
       "    }\n",
       "</style>\n",
       "<table border=\"1\" class=\"dataframe\">\n",
       "  <thead>\n",
       "    <tr style=\"text-align: right;\">\n",
       "      <th></th>\n",
       "      <th>MovieIDs</th>\n",
       "      <th>MovieName</th>\n",
       "      <th>Category</th>\n",
       "      <th>ID</th>\n",
       "      <th>MovieID</th>\n",
       "      <th>Ratings</th>\n",
       "      <th>TimeStamp</th>\n",
       "      <th>UserID</th>\n",
       "      <th>Gender</th>\n",
       "      <th>Age</th>\n",
       "      <th>Ocupation</th>\n",
       "      <th>Zip-code</th>\n",
       "    </tr>\n",
       "  </thead>\n",
       "  <tbody>\n",
       "    <tr>\n",
       "      <th>0</th>\n",
       "      <td>1.0</td>\n",
       "      <td>Toy Story (1995)</td>\n",
       "      <td>Animation|Children's|Comedy</td>\n",
       "      <td>1</td>\n",
       "      <td>1193</td>\n",
       "      <td>5</td>\n",
       "      <td>978300760</td>\n",
       "      <td>1.0</td>\n",
       "      <td>0.0</td>\n",
       "      <td>1.0</td>\n",
       "      <td>10.0</td>\n",
       "      <td>48067</td>\n",
       "    </tr>\n",
       "    <tr>\n",
       "      <th>1</th>\n",
       "      <td>2.0</td>\n",
       "      <td>Jumanji (1995)</td>\n",
       "      <td>Adventure|Children's|Fantasy</td>\n",
       "      <td>1</td>\n",
       "      <td>661</td>\n",
       "      <td>3</td>\n",
       "      <td>978302109</td>\n",
       "      <td>2.0</td>\n",
       "      <td>1.0</td>\n",
       "      <td>56.0</td>\n",
       "      <td>16.0</td>\n",
       "      <td>70072</td>\n",
       "    </tr>\n",
       "    <tr>\n",
       "      <th>2</th>\n",
       "      <td>3.0</td>\n",
       "      <td>Grumpier Old Men (1995)</td>\n",
       "      <td>Comedy|Romance</td>\n",
       "      <td>1</td>\n",
       "      <td>914</td>\n",
       "      <td>3</td>\n",
       "      <td>978301968</td>\n",
       "      <td>3.0</td>\n",
       "      <td>1.0</td>\n",
       "      <td>25.0</td>\n",
       "      <td>15.0</td>\n",
       "      <td>55117</td>\n",
       "    </tr>\n",
       "    <tr>\n",
       "      <th>3</th>\n",
       "      <td>4.0</td>\n",
       "      <td>Waiting to Exhale (1995)</td>\n",
       "      <td>Comedy|Drama</td>\n",
       "      <td>1</td>\n",
       "      <td>3408</td>\n",
       "      <td>4</td>\n",
       "      <td>978300275</td>\n",
       "      <td>4.0</td>\n",
       "      <td>1.0</td>\n",
       "      <td>45.0</td>\n",
       "      <td>7.0</td>\n",
       "      <td>02460</td>\n",
       "    </tr>\n",
       "    <tr>\n",
       "      <th>4</th>\n",
       "      <td>5.0</td>\n",
       "      <td>Father of the Bride Part II (1995)</td>\n",
       "      <td>Comedy</td>\n",
       "      <td>1</td>\n",
       "      <td>2355</td>\n",
       "      <td>5</td>\n",
       "      <td>978824291</td>\n",
       "      <td>5.0</td>\n",
       "      <td>1.0</td>\n",
       "      <td>25.0</td>\n",
       "      <td>20.0</td>\n",
       "      <td>55455</td>\n",
       "    </tr>\n",
       "  </tbody>\n",
       "</table>\n",
       "</div>"
      ],
      "text/plain": [
       "   MovieIDs                           MovieName                      Category  \\\n",
       "0       1.0                    Toy Story (1995)   Animation|Children's|Comedy   \n",
       "1       2.0                      Jumanji (1995)  Adventure|Children's|Fantasy   \n",
       "2       3.0             Grumpier Old Men (1995)                Comedy|Romance   \n",
       "3       4.0            Waiting to Exhale (1995)                  Comedy|Drama   \n",
       "4       5.0  Father of the Bride Part II (1995)                        Comedy   \n",
       "\n",
       "   ID  MovieID  Ratings  TimeStamp  UserID  Gender   Age  Ocupation Zip-code  \n",
       "0   1     1193        5  978300760     1.0     0.0   1.0       10.0    48067  \n",
       "1   1      661        3  978302109     2.0     1.0  56.0       16.0    70072  \n",
       "2   1      914        3  978301968     3.0     1.0  25.0       15.0    55117  \n",
       "3   1     3408        4  978300275     4.0     1.0  45.0        7.0    02460  \n",
       "4   1     2355        5  978824291     5.0     1.0  25.0       20.0    55455  "
      ]
     },
     "execution_count": 130,
     "metadata": {},
     "output_type": "execute_result"
    }
   ],
   "source": [
    "conc_data=pd.concat([data_movie,data_ratings,data_user],axis=1)\n",
    "conc_data.dropna()\n",
    "conc_data.head()"
   ]
  },
  {
   "cell_type": "code",
   "execution_count": 131,
   "id": "ae960c39",
   "metadata": {},
   "outputs": [
    {
     "data": {
      "text/plain": [
       "(1000209, 12)"
      ]
     },
     "execution_count": 131,
     "metadata": {},
     "output_type": "execute_result"
    }
   ],
   "source": [
    "conc_data.shape"
   ]
  },
  {
   "cell_type": "markdown",
   "id": "18603c9b",
   "metadata": {},
   "source": [
    "# Data Preprocessing"
   ]
  },
  {
   "cell_type": "raw",
   "id": "da00d344",
   "metadata": {},
   "source": [
    "Droping some columns"
   ]
  },
  {
   "cell_type": "code",
   "execution_count": 132,
   "id": "87f822ca",
   "metadata": {},
   "outputs": [
    {
     "data": {
      "text/html": [
       "<div>\n",
       "<style scoped>\n",
       "    .dataframe tbody tr th:only-of-type {\n",
       "        vertical-align: middle;\n",
       "    }\n",
       "\n",
       "    .dataframe tbody tr th {\n",
       "        vertical-align: top;\n",
       "    }\n",
       "\n",
       "    .dataframe thead th {\n",
       "        text-align: right;\n",
       "    }\n",
       "</style>\n",
       "<table border=\"1\" class=\"dataframe\">\n",
       "  <thead>\n",
       "    <tr style=\"text-align: right;\">\n",
       "      <th></th>\n",
       "      <th>MovieIDs</th>\n",
       "      <th>MovieName</th>\n",
       "      <th>Category</th>\n",
       "      <th>ID</th>\n",
       "      <th>MovieID</th>\n",
       "      <th>Ratings</th>\n",
       "      <th>UserID</th>\n",
       "      <th>Gender</th>\n",
       "      <th>Age</th>\n",
       "    </tr>\n",
       "  </thead>\n",
       "  <tbody>\n",
       "    <tr>\n",
       "      <th>0</th>\n",
       "      <td>1.0</td>\n",
       "      <td>Toy Story (1995)</td>\n",
       "      <td>Animation|Children's|Comedy</td>\n",
       "      <td>1</td>\n",
       "      <td>1193</td>\n",
       "      <td>5</td>\n",
       "      <td>1.0</td>\n",
       "      <td>0.0</td>\n",
       "      <td>1.0</td>\n",
       "    </tr>\n",
       "    <tr>\n",
       "      <th>1</th>\n",
       "      <td>2.0</td>\n",
       "      <td>Jumanji (1995)</td>\n",
       "      <td>Adventure|Children's|Fantasy</td>\n",
       "      <td>1</td>\n",
       "      <td>661</td>\n",
       "      <td>3</td>\n",
       "      <td>2.0</td>\n",
       "      <td>1.0</td>\n",
       "      <td>56.0</td>\n",
       "    </tr>\n",
       "    <tr>\n",
       "      <th>2</th>\n",
       "      <td>3.0</td>\n",
       "      <td>Grumpier Old Men (1995)</td>\n",
       "      <td>Comedy|Romance</td>\n",
       "      <td>1</td>\n",
       "      <td>914</td>\n",
       "      <td>3</td>\n",
       "      <td>3.0</td>\n",
       "      <td>1.0</td>\n",
       "      <td>25.0</td>\n",
       "    </tr>\n",
       "    <tr>\n",
       "      <th>3</th>\n",
       "      <td>4.0</td>\n",
       "      <td>Waiting to Exhale (1995)</td>\n",
       "      <td>Comedy|Drama</td>\n",
       "      <td>1</td>\n",
       "      <td>3408</td>\n",
       "      <td>4</td>\n",
       "      <td>4.0</td>\n",
       "      <td>1.0</td>\n",
       "      <td>45.0</td>\n",
       "    </tr>\n",
       "    <tr>\n",
       "      <th>4</th>\n",
       "      <td>5.0</td>\n",
       "      <td>Father of the Bride Part II (1995)</td>\n",
       "      <td>Comedy</td>\n",
       "      <td>1</td>\n",
       "      <td>2355</td>\n",
       "      <td>5</td>\n",
       "      <td>5.0</td>\n",
       "      <td>1.0</td>\n",
       "      <td>25.0</td>\n",
       "    </tr>\n",
       "  </tbody>\n",
       "</table>\n",
       "</div>"
      ],
      "text/plain": [
       "   MovieIDs                           MovieName                      Category  \\\n",
       "0       1.0                    Toy Story (1995)   Animation|Children's|Comedy   \n",
       "1       2.0                      Jumanji (1995)  Adventure|Children's|Fantasy   \n",
       "2       3.0             Grumpier Old Men (1995)                Comedy|Romance   \n",
       "3       4.0            Waiting to Exhale (1995)                  Comedy|Drama   \n",
       "4       5.0  Father of the Bride Part II (1995)                        Comedy   \n",
       "\n",
       "   ID  MovieID  Ratings  UserID  Gender   Age  \n",
       "0   1     1193        5     1.0     0.0   1.0  \n",
       "1   1      661        3     2.0     1.0  56.0  \n",
       "2   1      914        3     3.0     1.0  25.0  \n",
       "3   1     3408        4     4.0     1.0  45.0  \n",
       "4   1     2355        5     5.0     1.0  25.0  "
      ]
     },
     "execution_count": 132,
     "metadata": {},
     "output_type": "execute_result"
    }
   ],
   "source": [
    "data2 = conc_data.drop([\"Ocupation\", \"Zip-code\", \"TimeStamp\"], axis=1)\n",
    "data2.head()"
   ]
  },
  {
   "cell_type": "code",
   "execution_count": 133,
   "id": "e6e9b014",
   "metadata": {},
   "outputs": [
    {
     "data": {
      "text/html": [
       "<div>\n",
       "<style scoped>\n",
       "    .dataframe tbody tr th:only-of-type {\n",
       "        vertical-align: middle;\n",
       "    }\n",
       "\n",
       "    .dataframe tbody tr th {\n",
       "        vertical-align: top;\n",
       "    }\n",
       "\n",
       "    .dataframe thead th {\n",
       "        text-align: right;\n",
       "    }\n",
       "</style>\n",
       "<table border=\"1\" class=\"dataframe\">\n",
       "  <thead>\n",
       "    <tr style=\"text-align: right;\">\n",
       "      <th></th>\n",
       "      <th>MovieIDs</th>\n",
       "      <th>ID</th>\n",
       "      <th>MovieID</th>\n",
       "      <th>Ratings</th>\n",
       "      <th>UserID</th>\n",
       "      <th>Gender</th>\n",
       "      <th>Age</th>\n",
       "    </tr>\n",
       "  </thead>\n",
       "  <tbody>\n",
       "    <tr>\n",
       "      <th>count</th>\n",
       "      <td>3883.000000</td>\n",
       "      <td>1.000209e+06</td>\n",
       "      <td>1.000209e+06</td>\n",
       "      <td>1.000209e+06</td>\n",
       "      <td>6040.000000</td>\n",
       "      <td>6040.000000</td>\n",
       "      <td>6040.000000</td>\n",
       "    </tr>\n",
       "    <tr>\n",
       "      <th>mean</th>\n",
       "      <td>1986.049446</td>\n",
       "      <td>3.024512e+03</td>\n",
       "      <td>1.865540e+03</td>\n",
       "      <td>3.581564e+00</td>\n",
       "      <td>3020.500000</td>\n",
       "      <td>0.717053</td>\n",
       "      <td>30.639238</td>\n",
       "    </tr>\n",
       "    <tr>\n",
       "      <th>std</th>\n",
       "      <td>1146.778349</td>\n",
       "      <td>1.728413e+03</td>\n",
       "      <td>1.096041e+03</td>\n",
       "      <td>1.117102e+00</td>\n",
       "      <td>1743.742145</td>\n",
       "      <td>0.450468</td>\n",
       "      <td>12.895962</td>\n",
       "    </tr>\n",
       "    <tr>\n",
       "      <th>min</th>\n",
       "      <td>1.000000</td>\n",
       "      <td>1.000000e+00</td>\n",
       "      <td>1.000000e+00</td>\n",
       "      <td>1.000000e+00</td>\n",
       "      <td>1.000000</td>\n",
       "      <td>0.000000</td>\n",
       "      <td>1.000000</td>\n",
       "    </tr>\n",
       "    <tr>\n",
       "      <th>25%</th>\n",
       "      <td>982.500000</td>\n",
       "      <td>1.506000e+03</td>\n",
       "      <td>1.030000e+03</td>\n",
       "      <td>3.000000e+00</td>\n",
       "      <td>1510.750000</td>\n",
       "      <td>0.000000</td>\n",
       "      <td>25.000000</td>\n",
       "    </tr>\n",
       "    <tr>\n",
       "      <th>50%</th>\n",
       "      <td>2010.000000</td>\n",
       "      <td>3.070000e+03</td>\n",
       "      <td>1.835000e+03</td>\n",
       "      <td>4.000000e+00</td>\n",
       "      <td>3020.500000</td>\n",
       "      <td>1.000000</td>\n",
       "      <td>25.000000</td>\n",
       "    </tr>\n",
       "    <tr>\n",
       "      <th>75%</th>\n",
       "      <td>2980.500000</td>\n",
       "      <td>4.476000e+03</td>\n",
       "      <td>2.770000e+03</td>\n",
       "      <td>4.000000e+00</td>\n",
       "      <td>4530.250000</td>\n",
       "      <td>1.000000</td>\n",
       "      <td>35.000000</td>\n",
       "    </tr>\n",
       "    <tr>\n",
       "      <th>max</th>\n",
       "      <td>3952.000000</td>\n",
       "      <td>6.040000e+03</td>\n",
       "      <td>3.952000e+03</td>\n",
       "      <td>5.000000e+00</td>\n",
       "      <td>6040.000000</td>\n",
       "      <td>1.000000</td>\n",
       "      <td>56.000000</td>\n",
       "    </tr>\n",
       "  </tbody>\n",
       "</table>\n",
       "</div>"
      ],
      "text/plain": [
       "          MovieIDs            ID       MovieID       Ratings       UserID  \\\n",
       "count  3883.000000  1.000209e+06  1.000209e+06  1.000209e+06  6040.000000   \n",
       "mean   1986.049446  3.024512e+03  1.865540e+03  3.581564e+00  3020.500000   \n",
       "std    1146.778349  1.728413e+03  1.096041e+03  1.117102e+00  1743.742145   \n",
       "min       1.000000  1.000000e+00  1.000000e+00  1.000000e+00     1.000000   \n",
       "25%     982.500000  1.506000e+03  1.030000e+03  3.000000e+00  1510.750000   \n",
       "50%    2010.000000  3.070000e+03  1.835000e+03  4.000000e+00  3020.500000   \n",
       "75%    2980.500000  4.476000e+03  2.770000e+03  4.000000e+00  4530.250000   \n",
       "max    3952.000000  6.040000e+03  3.952000e+03  5.000000e+00  6040.000000   \n",
       "\n",
       "            Gender          Age  \n",
       "count  6040.000000  6040.000000  \n",
       "mean      0.717053    30.639238  \n",
       "std       0.450468    12.895962  \n",
       "min       0.000000     1.000000  \n",
       "25%       0.000000    25.000000  \n",
       "50%       1.000000    25.000000  \n",
       "75%       1.000000    35.000000  \n",
       "max       1.000000    56.000000  "
      ]
     },
     "execution_count": 133,
     "metadata": {},
     "output_type": "execute_result"
    }
   ],
   "source": [
    "data2.describe()"
   ]
  },
  {
   "cell_type": "code",
   "execution_count": 134,
   "id": "091db15d",
   "metadata": {},
   "outputs": [
    {
     "data": {
      "text/plain": [
       "MovieIDs     996326\n",
       "MovieName    996326\n",
       "Category     996326\n",
       "ID                0\n",
       "MovieID           0\n",
       "Ratings           0\n",
       "UserID       994169\n",
       "Gender       994169\n",
       "Age          994169\n",
       "dtype: int64"
      ]
     },
     "execution_count": 134,
     "metadata": {},
     "output_type": "execute_result"
    }
   ],
   "source": [
    "data2.isnull().sum()"
   ]
  },
  {
   "cell_type": "markdown",
   "id": "95e61bd3",
   "metadata": {},
   "source": [
    "# Handling missing values"
   ]
  },
  {
   "cell_type": "code",
   "execution_count": 135,
   "id": "61193d01",
   "metadata": {},
   "outputs": [],
   "source": [
    "final_data=data2.dropna()"
   ]
  },
  {
   "cell_type": "code",
   "execution_count": 136,
   "id": "24eeaa2e",
   "metadata": {},
   "outputs": [
    {
     "data": {
      "text/plain": [
       "(3883, 9)"
      ]
     },
     "execution_count": 136,
     "metadata": {},
     "output_type": "execute_result"
    }
   ],
   "source": [
    "final_data.shape"
   ]
  },
  {
   "cell_type": "code",
   "execution_count": 137,
   "id": "8ac1e0e3",
   "metadata": {},
   "outputs": [
    {
     "data": {
      "text/plain": [
       "MovieIDs     0\n",
       "MovieName    0\n",
       "Category     0\n",
       "ID           0\n",
       "MovieID      0\n",
       "Ratings      0\n",
       "UserID       0\n",
       "Gender       0\n",
       "Age          0\n",
       "dtype: int64"
      ]
     },
     "execution_count": 137,
     "metadata": {},
     "output_type": "execute_result"
    }
   ],
   "source": [
    "final_data.isnull().sum()"
   ]
  },
  {
   "cell_type": "markdown",
   "id": "57e96b8f",
   "metadata": {},
   "source": [
    "# Data visualisation"
   ]
  },
  {
   "cell_type": "markdown",
   "id": "520cadce",
   "metadata": {},
   "source": [
    "# EDA"
   ]
  },
  {
   "cell_type": "code",
   "execution_count": 138,
   "id": "c68f45b1",
   "metadata": {},
   "outputs": [
    {
     "data": {
      "text/plain": [
       "<Axes: xlabel='Gender', ylabel='count'>"
      ]
     },
     "execution_count": 138,
     "metadata": {},
     "output_type": "execute_result"
    },
    {
     "data": {
      "image/png": "[encoded data removed]",
      "text/plain": [
       "<Figure size 640x480 with 1 Axes>"
      ]
     },
     "metadata": {},
     "output_type": "display_data"
    }
   ],
   "source": [
    "sns.countplot(x=final_data['Gender'], hue=final_data['Ratings'])"
   ]
  },
  {
   "cell_type": "code",
   "execution_count": 139,
   "id": "fe2aae52",
   "metadata": {},
   "outputs": [
    {
     "data": {
      "image/png": "[encoded data removed]",
      "text/plain": [
       "<Figure size 640x480 with 1 Axes>"
      ]
     },
     "metadata": {},
     "output_type": "display_data"
    }
   ],
   "source": [
    "final_data[\"Age\"].value_counts().plot(kind=\"bar\")\n",
    "plt.show()"
   ]
  },
  {
   "cell_type": "code",
   "execution_count": 140,
   "id": "cae53693",
   "metadata": {},
   "outputs": [
    {
     "data": {
      "image/png": "[encoded data removed]",
      "text/plain": [
       "<Figure size 640x480 with 1 Axes>"
      ]
     },
     "metadata": {},
     "output_type": "display_data"
    }
   ],
   "source": [
    "final_data.Age.plot.hist(bins=25)\n",
    "plt.ylabel(\"MovieID\")\n",
    "plt.xlabel(\"Ratings\")\n",
    "plt.show()\n"
   ]
  },
  {
   "cell_type": "code",
   "execution_count": 141,
   "id": "1f89af90",
   "metadata": {},
   "outputs": [
    {
     "data": {
      "image/png": "[encoded data removed]",
      "text/plain": [
       "<Figure size 640x480 with 1 Axes>"
      ]
     },
     "metadata": {},
     "output_type": "display_data"
    }
   ],
   "source": [
    "plt.hist(final_data['Ratings'], bins=5, range=(1, 5), edgecolor='black')\n",
    "plt.xlabel('Rating')\n",
    "plt.ylabel('Number of Movies')\n",
    "plt.title('Movie Ratings Distribution')\n",
    "plt.show()"
   ]
  },
  {
   "cell_type": "code",
   "execution_count": 142,
   "id": "3400f986",
   "metadata": {},
   "outputs": [
    {
     "data": {
      "text/plain": [
       "Text(0, 0.5, 'Rating')"
      ]
     },
     "execution_count": 142,
     "metadata": {},
     "output_type": "execute_result"
    },
    {
     "data": {
      "image/png": "[encoded data removed]",
      "text/plain": [
       "<Figure size 640x480 with 1 Axes>"
      ]
     },
     "metadata": {},
     "output_type": "display_data"
    }
   ],
   "source": [
    "final_data['MovieID'].plot.hist(bins=25)\n",
    "plt.xlabel(\"MovieID\")\n",
    "plt.ylabel(\"Rating\")"
   ]
  },
  {
   "cell_type": "code",
   "execution_count": 143,
   "id": "c562d9f5",
   "metadata": {},
   "outputs": [
    {
     "data": {
      "text/plain": [
       "<Axes: ylabel='Frequency'>"
      ]
     },
     "execution_count": 143,
     "metadata": {},
     "output_type": "execute_result"
    },
    {
     "data": {
      "image/png": "[encoded data removed]",
      "text/plain": [
       "<Figure size 640x480 with 1 Axes>"
      ]
     },
     "metadata": {},
     "output_type": "display_data"
    }
   ],
   "source": [
    "final_data['Age'].plot.hist(bins=10)"
   ]
  },
  {
   "cell_type": "code",
   "execution_count": 144,
   "id": "6340b7ed",
   "metadata": {},
   "outputs": [
    {
     "data": {
      "image/png": "[encoded data removed]",
      "text/plain": [
       "<Figure size 1200x600 with 1 Axes>"
      ]
     },
     "metadata": {},
     "output_type": "display_data"
    }
   ],
   "source": [
    "movie_ratings = final_data[final_data['Ratings'] == 5].groupby('MovieName')['Ratings'].count().reset_index()\n",
    "top_rated_movies = movie_ratings.sort_values(by='Ratings', ascending=False)\n",
    "\n",
    "plt.figure(figsize=(12, 6))\n",
    "plt.bar(top_rated_movies['MovieName'][:20], top_rated_movies['Ratings'][:20]) \n",
    "plt.xlabel('Movie Name')\n",
    "plt.ylabel('Number of 5-Star Ratings')\n",
    "plt.title('Top-Rated Movies with Many 5-Star Ratings')\n",
    "plt.xticks(rotation=90) \n",
    "plt.show()\n"
   ]
  },
  {
   "cell_type": "code",
   "execution_count": 145,
   "id": "2e9e5a5e",
   "metadata": {},
   "outputs": [
    {
     "data": {
      "text/plain": [
       "<Axes: xlabel='Age', ylabel='count'>"
      ]
     },
     "execution_count": 145,
     "metadata": {},
     "output_type": "execute_result"
    },
    {
     "data": {
      "image/png": "[encoded data removed]",
      "text/plain": [
       "<Figure size 640x480 with 1 Axes>"
      ]
     },
     "metadata": {},
     "output_type": "display_data"
    }
   ],
   "source": [
    "sns.countplot(x=final_data['Age'], hue=final_data['Ratings'])\n"
   ]
  },
  {
   "cell_type": "code",
   "execution_count": 146,
   "id": "89f82020",
   "metadata": {},
   "outputs": [
    {
     "data": {
      "text/plain": [
       "<Axes: >"
      ]
     },
     "execution_count": 146,
     "metadata": {},
     "output_type": "execute_result"
    },
    {
     "data": {
      "image/png": "[encoded data removed]",
      "text/plain": [
       "<Figure size 2000x1500 with 2 Axes>"
      ]
     },
     "metadata": {},
     "output_type": "display_data"
    }
   ],
   "source": [
    "plt.figure(figsize=(20,15))\n",
    "sns.heatmap(final_data.corr(),cmap='coolwarm',annot=True)"
   ]
  },
  {
   "cell_type": "code",
   "execution_count": null,
   "id": "d98493db",
   "metadata": {},
   "outputs": [],
   "source": []
  },
  {
   "cell_type": "code",
   "execution_count": 147,
   "id": "8f94ba56",
   "metadata": {},
   "outputs": [
    {
     "data": {
      "text/html": [
       "<div>\n",
       "<style scoped>\n",
       "    .dataframe tbody tr th:only-of-type {\n",
       "        vertical-align: middle;\n",
       "    }\n",
       "\n",
       "    .dataframe tbody tr th {\n",
       "        vertical-align: top;\n",
       "    }\n",
       "\n",
       "    .dataframe thead th {\n",
       "        text-align: right;\n",
       "    }\n",
       "</style>\n",
       "<table border=\"1\" class=\"dataframe\">\n",
       "  <thead>\n",
       "    <tr style=\"text-align: right;\">\n",
       "      <th></th>\n",
       "      <th>MovieIDs</th>\n",
       "      <th>MovieName</th>\n",
       "      <th>Category</th>\n",
       "      <th>ID</th>\n",
       "      <th>MovieID</th>\n",
       "      <th>Ratings</th>\n",
       "      <th>UserID</th>\n",
       "      <th>Gender</th>\n",
       "      <th>Age</th>\n",
       "    </tr>\n",
       "  </thead>\n",
       "  <tbody>\n",
       "    <tr>\n",
       "      <th>0</th>\n",
       "      <td>1.0</td>\n",
       "      <td>Toy Story (1995)</td>\n",
       "      <td>Animation|Children's|Comedy</td>\n",
       "      <td>1</td>\n",
       "      <td>1193</td>\n",
       "      <td>5</td>\n",
       "      <td>1.0</td>\n",
       "      <td>0.0</td>\n",
       "      <td>1.0</td>\n",
       "    </tr>\n",
       "    <tr>\n",
       "      <th>1</th>\n",
       "      <td>2.0</td>\n",
       "      <td>Jumanji (1995)</td>\n",
       "      <td>Adventure|Children's|Fantasy</td>\n",
       "      <td>1</td>\n",
       "      <td>661</td>\n",
       "      <td>3</td>\n",
       "      <td>2.0</td>\n",
       "      <td>1.0</td>\n",
       "      <td>56.0</td>\n",
       "    </tr>\n",
       "    <tr>\n",
       "      <th>2</th>\n",
       "      <td>3.0</td>\n",
       "      <td>Grumpier Old Men (1995)</td>\n",
       "      <td>Comedy|Romance</td>\n",
       "      <td>1</td>\n",
       "      <td>914</td>\n",
       "      <td>3</td>\n",
       "      <td>3.0</td>\n",
       "      <td>1.0</td>\n",
       "      <td>25.0</td>\n",
       "    </tr>\n",
       "    <tr>\n",
       "      <th>3</th>\n",
       "      <td>4.0</td>\n",
       "      <td>Waiting to Exhale (1995)</td>\n",
       "      <td>Comedy|Drama</td>\n",
       "      <td>1</td>\n",
       "      <td>3408</td>\n",
       "      <td>4</td>\n",
       "      <td>4.0</td>\n",
       "      <td>1.0</td>\n",
       "      <td>45.0</td>\n",
       "    </tr>\n",
       "    <tr>\n",
       "      <th>4</th>\n",
       "      <td>5.0</td>\n",
       "      <td>Father of the Bride Part II (1995)</td>\n",
       "      <td>Comedy</td>\n",
       "      <td>1</td>\n",
       "      <td>2355</td>\n",
       "      <td>5</td>\n",
       "      <td>5.0</td>\n",
       "      <td>1.0</td>\n",
       "      <td>25.0</td>\n",
       "    </tr>\n",
       "  </tbody>\n",
       "</table>\n",
       "</div>"
      ],
      "text/plain": [
       "   MovieIDs                           MovieName                      Category  \\\n",
       "0       1.0                    Toy Story (1995)   Animation|Children's|Comedy   \n",
       "1       2.0                      Jumanji (1995)  Adventure|Children's|Fantasy   \n",
       "2       3.0             Grumpier Old Men (1995)                Comedy|Romance   \n",
       "3       4.0            Waiting to Exhale (1995)                  Comedy|Drama   \n",
       "4       5.0  Father of the Bride Part II (1995)                        Comedy   \n",
       "\n",
       "   ID  MovieID  Ratings  UserID  Gender   Age  \n",
       "0   1     1193        5     1.0     0.0   1.0  \n",
       "1   1      661        3     2.0     1.0  56.0  \n",
       "2   1      914        3     3.0     1.0  25.0  \n",
       "3   1     3408        4     4.0     1.0  45.0  \n",
       "4   1     2355        5     5.0     1.0  25.0  "
      ]
     },
     "execution_count": 147,
     "metadata": {},
     "output_type": "execute_result"
    }
   ],
   "source": [
    "final_data.head()"
   ]
  },
  {
   "cell_type": "code",
   "execution_count": 68,
   "id": "44756630",
   "metadata": {},
   "outputs": [],
   "source": [
    "input = final_data.drop(['Ratings', 'MovieName','Category', 'MovieIDs'], axis=1)\n",
    "target= final_data['Ratings']"
   ]
  },
  {
   "cell_type": "code",
   "execution_count": 69,
   "id": "cd3f51a3",
   "metadata": {},
   "outputs": [
    {
     "data": {
      "text/plain": [
       "0    5\n",
       "1    3\n",
       "2    3\n",
       "3    4\n",
       "4    5\n",
       "Name: Ratings, dtype: int64"
      ]
     },
     "execution_count": 69,
     "metadata": {},
     "output_type": "execute_result"
    }
   ],
   "source": [
    "target.head()"
   ]
  },
  {
   "cell_type": "code",
   "execution_count": 70,
   "id": "320f2fce",
   "metadata": {},
   "outputs": [
    {
     "data": {
      "text/html": [
       "<div>\n",
       "<style scoped>\n",
       "    .dataframe tbody tr th:only-of-type {\n",
       "        vertical-align: middle;\n",
       "    }\n",
       "\n",
       "    .dataframe tbody tr th {\n",
       "        vertical-align: top;\n",
       "    }\n",
       "\n",
       "    .dataframe thead th {\n",
       "        text-align: right;\n",
       "    }\n",
       "</style>\n",
       "<table border=\"1\" class=\"dataframe\">\n",
       "  <thead>\n",
       "    <tr style=\"text-align: right;\">\n",
       "      <th></th>\n",
       "      <th>ID</th>\n",
       "      <th>MovieID</th>\n",
       "      <th>UserID</th>\n",
       "      <th>Gender</th>\n",
       "      <th>Age</th>\n",
       "    </tr>\n",
       "  </thead>\n",
       "  <tbody>\n",
       "    <tr>\n",
       "      <th>0</th>\n",
       "      <td>1</td>\n",
       "      <td>1193</td>\n",
       "      <td>1.0</td>\n",
       "      <td>0.0</td>\n",
       "      <td>1.0</td>\n",
       "    </tr>\n",
       "    <tr>\n",
       "      <th>1</th>\n",
       "      <td>1</td>\n",
       "      <td>661</td>\n",
       "      <td>2.0</td>\n",
       "      <td>1.0</td>\n",
       "      <td>56.0</td>\n",
       "    </tr>\n",
       "    <tr>\n",
       "      <th>2</th>\n",
       "      <td>1</td>\n",
       "      <td>914</td>\n",
       "      <td>3.0</td>\n",
       "      <td>1.0</td>\n",
       "      <td>25.0</td>\n",
       "    </tr>\n",
       "    <tr>\n",
       "      <th>3</th>\n",
       "      <td>1</td>\n",
       "      <td>3408</td>\n",
       "      <td>4.0</td>\n",
       "      <td>1.0</td>\n",
       "      <td>45.0</td>\n",
       "    </tr>\n",
       "    <tr>\n",
       "      <th>4</th>\n",
       "      <td>1</td>\n",
       "      <td>2355</td>\n",
       "      <td>5.0</td>\n",
       "      <td>1.0</td>\n",
       "      <td>25.0</td>\n",
       "    </tr>\n",
       "  </tbody>\n",
       "</table>\n",
       "</div>"
      ],
      "text/plain": [
       "   ID  MovieID  UserID  Gender   Age\n",
       "0   1     1193     1.0     0.0   1.0\n",
       "1   1      661     2.0     1.0  56.0\n",
       "2   1      914     3.0     1.0  25.0\n",
       "3   1     3408     4.0     1.0  45.0\n",
       "4   1     2355     5.0     1.0  25.0"
      ]
     },
     "execution_count": 70,
     "metadata": {},
     "output_type": "execute_result"
    }
   ],
   "source": [
    "input.head()"
   ]
  },
  {
   "cell_type": "markdown",
   "id": "79b6e4eb",
   "metadata": {},
   "source": [
    "# Training Model"
   ]
  },
  {
   "cell_type": "code",
   "execution_count": 93,
   "id": "ac6e084d",
   "metadata": {},
   "outputs": [],
   "source": [
    "from sklearn.model_selection import train_test_split"
   ]
  },
  {
   "cell_type": "code",
   "execution_count": 94,
   "id": "b888efe3",
   "metadata": {},
   "outputs": [],
   "source": [
    "X = input\n",
    "y = target\n",
    "X_train, X_test, y_train, y_test = train_test_split(X, y, test_size=0.2, random_state=42)"
   ]
  },
  {
   "cell_type": "markdown",
   "id": "e015c5b7",
   "metadata": {},
   "source": [
    "# Model Building Using Linear Regression "
   ]
  },
  {
   "cell_type": "code",
   "execution_count": 95,
   "id": "5d6595b0",
   "metadata": {},
   "outputs": [],
   "source": [
    "from sklearn.linear_model import LinearRegression"
   ]
  },
  {
   "cell_type": "code",
   "execution_count": 96,
   "id": "ff3eac6e",
   "metadata": {},
   "outputs": [
    {
     "data": {
      "text/html": [
       "<style>#sk-container-id-2 {color: black;background-color: white;}#sk-container-id-2 pre{padding: 0;}#sk-container-id-2 div.sk-toggleable {background-color: white;}#sk-container-id-2 label.sk-toggleable__label {cursor: pointer;display: block;width: 100%;margin-bottom: 0;padding: 0.3em;box-sizing: border-box;text-align: center;}#sk-container-id-2 label.sk-toggleable__label-arrow:before {content: \"▸\";float: left;margin-right: 0.25em;color: #696969;}#sk-container-id-2 label.sk-toggleable__label-arrow:hover:before {color: black;}#sk-container-id-2 div.sk-estimator:hover label.sk-toggleable__label-arrow:before {color: black;}#sk-container-id-2 div.sk-toggleable__content {max-height: 0;max-width: 0;overflow: hidden;text-align: left;background-color: #f0f8ff;}#sk-container-id-2 div.sk-toggleable__content pre {margin: 0.2em;color: black;border-radius: 0.25em;background-color: #f0f8ff;}#sk-container-id-2 input.sk-toggleable__control:checked~div.sk-toggleable__content {max-height: 200px;max-width: 100%;overflow: auto;}#sk-container-id-2 input.sk-toggleable__control:checked~label.sk-toggleable__label-arrow:before {content: \"▾\";}#sk-container-id-2 div.sk-estimator input.sk-toggleable__control:checked~label.sk-toggleable__label {background-color: #d4ebff;}#sk-container-id-2 div.sk-label input.sk-toggleable__control:checked~label.sk-toggleable__label {background-color: #d4ebff;}#sk-container-id-2 input.sk-hidden--visually {border: 0;clip: rect(1px 1px 1px 1px);clip: rect(1px, 1px, 1px, 1px);height: 1px;margin: -1px;overflow: hidden;padding: 0;position: absolute;width: 1px;}#sk-container-id-2 div.sk-estimator {font-family: monospace;background-color: #f0f8ff;border: 1px dotted black;border-radius: 0.25em;box-sizing: border-box;margin-bottom: 0.5em;}#sk-container-id-2 div.sk-estimator:hover {background-color: #d4ebff;}#sk-container-id-2 div.sk-parallel-item::after {content: \"\";width: 100%;border-bottom: 1px solid gray;flex-grow: 1;}#sk-container-id-2 div.sk-label:hover label.sk-toggleable__label {background-color: #d4ebff;}#sk-container-id-2 div.sk-serial::before {content: \"\";position: absolute;border-left: 1px solid gray;box-sizing: border-box;top: 0;bottom: 0;left: 50%;z-index: 0;}#sk-container-id-2 div.sk-serial {display: flex;flex-direction: column;align-items: center;background-color: white;padding-right: 0.2em;padding-left: 0.2em;position: relative;}#sk-container-id-2 div.sk-item {position: relative;z-index: 1;}#sk-container-id-2 div.sk-parallel {display: flex;align-items: stretch;justify-content: center;background-color: white;position: relative;}#sk-container-id-2 div.sk-item::before, #sk-container-id-2 div.sk-parallel-item::before {content: \"\";position: absolute;border-left: 1px solid gray;box-sizing: border-box;top: 0;bottom: 0;left: 50%;z-index: -1;}#sk-container-id-2 div.sk-parallel-item {display: flex;flex-direction: column;z-index: 1;position: relative;background-color: white;}#sk-container-id-2 div.sk-parallel-item:first-child::after {align-self: flex-end;width: 50%;}#sk-container-id-2 div.sk-parallel-item:last-child::after {align-self: flex-start;width: 50%;}#sk-container-id-2 div.sk-parallel-item:only-child::after {width: 0;}#sk-container-id-2 div.sk-dashed-wrapped {border: 1px dashed gray;margin: 0 0.4em 0.5em 0.4em;box-sizing: border-box;padding-bottom: 0.4em;background-color: white;}#sk-container-id-2 div.sk-label label {font-family: monospace;font-weight: bold;display: inline-block;line-height: 1.2em;}#sk-container-id-2 div.sk-label-container {text-align: center;}#sk-container-id-2 div.sk-container {/* jupyter's `normalize.less` sets `[hidden] { display: none; }` but bootstrap.min.css set `[hidden] { display: none !important; }` so we also need the `!important` here to be able to override the default hidden behavior on the sphinx rendered scikit-learn.org. See: https://github.com/scikit-learn/scikit-learn/issues/21755 */display: inline-block !important;position: relative;}#sk-container-id-2 div.sk-text-repr-fallback {display: none;}</style><div id=\"sk-container-id-2\" class=\"sk-top-container\"><div class=\"sk-text-repr-fallback\"><pre>LinearRegression()</pre><b>In a Jupyter environment, please rerun this cell to show the HTML representation or trust the notebook. <br />On GitHub, the HTML representation is unable to render, please try loading this page with nbviewer.org.</b></div><div class=\"sk-container\" hidden><div class=\"sk-item\"><div class=\"sk-estimator sk-toggleable\"><input class=\"sk-toggleable__control sk-hidden--visually\" id=\"sk-estimator-id-2\" type=\"checkbox\" checked><label for=\"sk-estimator-id-2\" class=\"sk-toggleable__label sk-toggleable__label-arrow\">LinearRegression</label><div class=\"sk-toggleable__content\"><pre>LinearRegression()</pre></div></div></div></div></div>"
      ],
      "text/plain": [
       "LinearRegression()"
      ]
     },
     "execution_count": 96,
     "metadata": {},
     "output_type": "execute_result"
    }
   ],
   "source": [
    "reg_model = LinearRegression()\n",
    "reg_model.fit(X_train, y_train)"
   ]
  },
  {
   "cell_type": "raw",
   "id": "58ec9c79",
   "metadata": {},
   "source": [
    "# Model Prediction"
   ]
  },
  {
   "cell_type": "code",
   "execution_count": 98,
   "id": "682a1976",
   "metadata": {},
   "outputs": [],
   "source": [
    "y_pred = reg_model.predict(X_test)"
   ]
  },
  {
   "cell_type": "code",
   "execution_count": 99,
   "id": "e77f6a78",
   "metadata": {},
   "outputs": [
    {
     "data": {
      "text/plain": [
       "array([3.61422739, 3.38459788, 3.19518328, 3.22457061, 3.49060586,\n",
       "       3.53565776, 3.85514025, 3.93041675, 3.54604018, 3.74816903,\n",
       "       3.35960925, 3.35728121, 3.40347199, 3.60919551, 3.71560604,\n",
       "       3.88955713, 3.52096963, 3.4990809 , 3.60219568, 3.4443483 ,\n",
       "       3.65475698, 3.75525483, 3.72641232, 3.67659053, 3.67059652,\n",
       "       3.82087965, 3.28172258, 3.16171662, 3.23504005, 3.78877149,\n",
       "       3.80076   , 3.76111686, 3.17558844, 3.27539095, 3.62410374,\n",
       "       3.64139466, 3.61874759, 3.37858315, 3.42945899, 3.25197515,\n",
       "       3.60933886, 3.73025494, 3.39931171, 3.68569573, 3.81965941,\n",
       "       3.67442478, 3.94752797, 3.75632924, 3.74385029, 3.554465  ,\n",
       "       3.59849147, 3.85809577, 3.37599582, 3.47306654, 3.51528943,\n",
       "       3.7598275 , 3.46827179, 3.85120898, 3.37595423, 3.67132656,\n",
       "       3.42047858, 3.71339217, 3.73712312, 3.64129279, 3.73457279,\n",
       "       3.77405146, 3.61857392, 3.76805181, 3.93428333, 3.91726068,\n",
       "       3.49988514, 3.61300815, 3.17561236, 3.27097817, 3.85707067,\n",
       "       3.8569432 , 3.42174634, 3.72118779, 3.37283473, 3.38933719,\n",
       "       3.37733284, 3.25152054, 3.67304175, 3.72122594, 3.36341915,\n",
       "       3.85842175, 3.51135844, 3.59134203, 3.5302875 , 3.60898636,\n",
       "       3.74127609, 3.51822778, 3.78444978, 3.68844159, 3.51002595,\n",
       "       3.55109478, 3.49249468, 3.57831623, 3.27883209, 3.44669719,\n",
       "       3.6414954 , 3.50427543, 3.9218841 , 3.74450631, 3.60713032,\n",
       "       3.52749923, 3.21702881, 3.74596069, 3.75722176, 3.74024606,\n",
       "       3.66867616, 3.86569893, 3.74970006, 3.70367928, 3.68950383,\n",
       "       3.14607687, 3.68889695, 3.70024391, 3.46773511, 3.84200791,\n",
       "       3.33159819, 3.58630103, 3.46894272, 3.68717323, 3.52819739,\n",
       "       3.73014299, 3.51663527, 3.5109982 , 3.39809722, 3.31726665,\n",
       "       3.42266723, 3.32714755, 3.94838261, 3.37003803, 3.71128121,\n",
       "       3.54660806, 3.4157551 , 3.53467687, 3.32058084, 3.77349795,\n",
       "       3.41723007, 3.82054335, 3.4853069 , 3.20984867, 3.33589857,\n",
       "       3.73460591, 3.43736684, 3.27412858, 3.57469363, 3.65890445,\n",
       "       3.82071662, 3.64618114, 3.53747696, 3.69603806, 3.76882   ,\n",
       "       3.41204122, 3.60660093, 3.78218292, 3.89983476, 3.57717019,\n",
       "       3.63075237, 3.85243344, 3.8536171 , 3.71535649, 3.87478702,\n",
       "       3.72684944, 3.61647651, 3.87385935, 3.33859771, 3.15555819,\n",
       "       3.85577446, 3.2753579 , 3.73986458, 3.68575828, 3.46510652,\n",
       "       3.61092437, 3.30302689, 3.61815538, 3.4449278 , 3.58718567,\n",
       "       3.58072892, 3.4730859 , 3.39142128, 3.35174672, 3.60328617,\n",
       "       3.62226679, 3.43058444, 3.50604877, 3.42728503, 3.48232823,\n",
       "       3.32504551, 3.72583817, 3.92123311, 3.79926122, 3.59923314,\n",
       "       3.63475535, 3.78642217, 3.67399491, 3.77645064, 3.91986194,\n",
       "       3.73717659, 3.66677952, 3.57015641, 3.9170538 , 3.47118898,\n",
       "       3.69732577, 3.75407657, 3.63758575, 3.77461005, 3.73832762,\n",
       "       3.40207502, 3.56614814, 3.83022988, 3.55838069, 3.71001251,\n",
       "       3.64361935, 3.71428882, 3.37943269, 3.83400334, 3.44525267,\n",
       "       3.26439533, 3.46541943, 3.86548548, 3.87342594, 3.89520679,\n",
       "       3.88227963, 3.21533349, 3.56954341, 3.28031902, 3.8538647 ,\n",
       "       3.8425815 , 3.69400607, 3.26081779, 3.73661562, 3.95191437,\n",
       "       3.58932809, 3.73286886, 3.59999604, 3.55812043, 3.56204346,\n",
       "       3.41379896, 3.74782463, 3.58818864, 3.60241497, 3.72141212,\n",
       "       3.39939716, 3.50999093, 3.7995126 , 3.58237093, 3.49596642,\n",
       "       3.60360474, 3.48330079, 3.47786011, 3.51303799, 3.35288996,\n",
       "       3.67473717, 3.55595729, 3.3429947 , 3.44324603, 3.45187323,\n",
       "       3.82172384, 3.45329458, 3.39751144, 3.6765667 , 3.80940189,\n",
       "       3.65406139, 3.32152185, 3.73588996, 3.35951414, 3.54896253,\n",
       "       3.88378469, 3.42754975, 3.29324963, 3.70524751, 3.71325584,\n",
       "       3.71215914, 3.63626106, 3.64463253, 3.68409548, 3.29824994,\n",
       "       3.22657285, 3.44739314, 3.35579074, 3.35804061, 3.76541478,\n",
       "       3.69283198, 3.24790613, 3.51465239, 3.83866173, 3.26734886,\n",
       "       3.68779759, 3.34500532, 3.79666178, 3.64732926, 3.43518059,\n",
       "       3.60673962, 3.66121669, 3.57121662, 3.32379458, 3.56682704,\n",
       "       3.21013464, 3.7611445 , 3.6510082 , 3.64912535, 3.72364544,\n",
       "       3.86614978, 3.40246601, 3.66916661, 3.46755719, 3.31918453,\n",
       "       3.76438083, 3.76756233, 3.43000181, 3.65688281, 3.8971478 ,\n",
       "       3.3702753 , 3.69264521, 3.64670915, 3.60719312, 3.34550687,\n",
       "       3.93876506, 3.82477995, 3.86162375, 3.62137767, 3.194484  ,\n",
       "       3.66436431, 3.30335695, 3.86756223, 3.40169438, 3.32236206,\n",
       "       3.48351791, 3.84368002, 3.46174024, 3.79634742, 3.49795847,\n",
       "       3.33535651, 3.37329054, 3.56850449, 3.51966184, 3.30283688,\n",
       "       3.45018165, 3.27851063, 3.35515089, 3.52482434, 3.2759962 ,\n",
       "       3.24647536, 3.89194363, 3.34913723, 3.85890838, 3.67876451,\n",
       "       3.7011032 , 3.40939767, 3.3505921 , 3.8208455 , 3.74019177,\n",
       "       3.85539257, 3.95288408, 3.86635278, 3.71931169, 3.40067442,\n",
       "       3.31351677, 3.54909362, 3.4750318 , 3.26969249, 3.55200012,\n",
       "       3.93663412, 3.3815787 , 3.51469525, 3.39109808, 3.33006847,\n",
       "       3.53592371, 3.40099744, 3.40407263, 3.50616543, 3.17935297,\n",
       "       3.85512489, 3.63638708, 3.3860076 , 3.75592084, 3.38033952,\n",
       "       3.2356247 , 3.34723783, 3.34701821, 3.41696391, 3.50145807,\n",
       "       3.80433147, 3.70607734, 3.23346732, 3.53650823, 3.70419057,\n",
       "       3.22964086, 3.74600077, 3.5327932 , 3.2186261 , 3.88320337,\n",
       "       3.47016162, 3.33204943, 3.7427649 , 3.61641283, 3.22071752,\n",
       "       3.81068753, 3.88588114, 3.7070222 , 3.53110705, 3.58171703,\n",
       "       3.814418  , 3.70042955, 3.32674812, 3.60899668, 3.69149161,\n",
       "       3.3634514 , 3.40429562, 3.60914715, 3.53215734, 3.1971823 ,\n",
       "       3.87600658, 3.66900799, 3.91166278, 3.75226249, 3.56227023,\n",
       "       3.14956708, 3.2493336 , 3.63526043, 3.65953512, 3.60115757,\n",
       "       3.74423517, 3.92370176, 3.6406335 , 3.55381684, 3.45899201,\n",
       "       3.57960977, 3.90707687, 3.7011459 , 3.19322072, 3.30542205,\n",
       "       3.53557267, 3.72603166, 3.68808824, 3.68071318, 3.26267985,\n",
       "       3.87066311, 3.57547599, 3.68081193, 3.63820503, 3.84302435,\n",
       "       3.46767792, 3.36276676, 3.82872209, 3.93556698, 3.63281226,\n",
       "       3.54971224, 3.38311307, 3.7441181 , 3.58319848, 3.63077841,\n",
       "       3.62537724, 3.48693108, 3.47758028, 3.31311989, 3.9495486 ,\n",
       "       3.75551784, 3.40901057, 3.72469778, 3.50989539, 3.53955742,\n",
       "       3.81624274, 3.42395869, 3.317146  , 3.41319303, 3.73025704,\n",
       "       3.78165109, 3.83064581, 3.61119723, 3.43404348, 3.44527608,\n",
       "       3.43313361, 3.64501741, 3.31214976, 3.80796728, 3.62930275,\n",
       "       3.78170671, 3.43958904, 3.85040283, 3.77800583, 3.75863388,\n",
       "       3.65827431, 3.86891398, 3.575716  , 3.50338778, 3.52791449,\n",
       "       3.62766003, 3.44529451, 3.73888747, 3.64905752, 3.73209723,\n",
       "       3.9537508 , 3.77356129, 3.68736987, 3.8797481 , 3.53422937,\n",
       "       3.37056955, 3.76479231, 3.41300962, 3.77104465, 3.23472514,\n",
       "       3.47214131, 3.68422839, 3.44494071, 3.66651582, 3.72257082,\n",
       "       3.59972014, 3.55704034, 3.69967809, 3.8317892 , 3.86444748,\n",
       "       3.26560352, 3.71993038, 3.9188619 , 3.32150315, 3.67860733,\n",
       "       3.38038483, 3.17499884, 3.2720748 , 3.61510779, 3.78073448,\n",
       "       3.13540026, 3.4563907 , 3.50598929, 3.33726951, 3.76510544,\n",
       "       3.40082885, 3.8960651 , 3.49188301, 3.42949432, 3.49480098,\n",
       "       3.62091056, 3.22112367, 3.58630606, 3.96507615, 3.9535373 ,\n",
       "       3.65221325, 3.38428976, 3.7098227 , 3.76587565, 3.57544934,\n",
       "       3.39234361, 3.60770473, 3.66456172, 3.41119013, 3.77073645,\n",
       "       3.60743001, 3.47968961, 3.55335578, 3.56047944, 3.40501422,\n",
       "       3.71728563, 3.70730745, 3.44831507, 3.54748648, 3.65141264,\n",
       "       3.67099979, 3.49077032, 3.48444847, 3.48577251, 3.43468328,\n",
       "       3.50400472, 3.94757551, 3.26998387, 3.73022935, 3.76163409,\n",
       "       3.79066703, 3.2798933 , 3.77142879, 3.83883526, 3.66138274,\n",
       "       3.57375732, 3.64854369, 3.80896466, 3.57759919, 3.40214995,\n",
       "       3.66358358, 3.21870662, 3.6529409 , 3.4897971 , 3.80510773,\n",
       "       3.29249913, 3.39419001, 3.56397679, 3.5833167 , 3.15373869,\n",
       "       3.46082143, 3.2875406 , 3.65088364, 3.68096843, 3.79266989,\n",
       "       3.16816616, 3.63258704, 3.6438621 , 3.48704093, 3.66258349,\n",
       "       3.52084392, 3.9306369 , 3.66041511, 3.79398271, 3.82562009,\n",
       "       3.52553091, 3.52544011, 3.63431037, 3.41435881, 3.470708  ,\n",
       "       3.23075502, 3.49003311, 3.63505454, 3.31911874, 3.23229645,\n",
       "       3.58641954, 3.34390513, 3.67580758, 3.65139172, 3.65645532,\n",
       "       3.62927982, 3.30983985, 3.32215836, 3.41909885, 3.85095205,\n",
       "       3.80085199, 3.50988996, 3.42884224, 3.78966329, 3.39075148,\n",
       "       3.73867418, 3.46646053, 3.50919878, 3.53411149, 3.55928644,\n",
       "       3.84814534, 3.41727384, 3.34616014, 3.6328808 , 3.58430987,\n",
       "       3.42202969, 3.56268359, 3.2942223 , 3.15808909, 3.39037975,\n",
       "       3.85202895, 3.43309961, 3.53185691, 3.75940782, 3.43926803,\n",
       "       3.81639537, 3.502685  , 3.45610541, 3.80302619, 3.38640115,\n",
       "       3.84150076, 3.69725533, 3.7401479 , 3.48628248, 3.22153439,\n",
       "       3.73699699, 3.64760335, 3.46147783, 3.8282997 , 3.31018382,\n",
       "       3.86333619, 3.79091276, 3.43487517, 3.54971584, 3.53339644,\n",
       "       3.83377616, 3.36948647, 3.61130265, 3.89942638, 3.71046268,\n",
       "       3.2848456 , 3.73443985, 3.42345508, 3.40453795, 3.57200375,\n",
       "       3.54884707, 3.65748389, 3.59513617, 3.39940406, 3.33056124,\n",
       "       3.84931593, 3.35567476, 3.81346097, 3.6427364 , 3.85104897,\n",
       "       3.6702126 , 3.74733043, 3.46128679, 3.80085679, 3.41343049,\n",
       "       3.7551502 , 3.29494214, 3.69538859, 3.41334649, 3.42647742,\n",
       "       3.31735149, 3.56838629, 3.53844096, 3.15464554, 3.72589355,\n",
       "       3.58900418, 3.28902304, 3.52004905, 3.9466091 , 3.91669674,\n",
       "       3.3470335 , 3.78774412, 3.47333236, 3.60708761, 3.78248005,\n",
       "       3.54346242, 3.83934072, 3.89125621, 3.49063051, 3.20941796,\n",
       "       3.92104832, 3.7413872 , 3.29498539, 3.59713413, 3.43623508,\n",
       "       3.89158578, 3.60053699, 3.47127752, 3.79909962, 3.66993256,\n",
       "       3.71892635, 3.92695763, 3.90871329, 3.52477808, 3.86866797,\n",
       "       3.4818698 , 3.75287417, 3.88827098, 3.26616588, 3.60177329,\n",
       "       3.24072158, 3.67718075, 3.23092075, 3.37930611, 3.43407159,\n",
       "       3.4048549 , 3.41738484, 3.69910116, 3.73581962, 3.70649935,\n",
       "       3.51716964, 3.36522922, 3.56934195, 3.55929826, 3.69914618,\n",
       "       3.79953601, 3.53600538, 3.3883457 , 3.39851331, 3.94071148,\n",
       "       3.63309488, 3.6968811 , 3.41870128, 3.15412358, 3.29033763,\n",
       "       3.62999558, 3.78920107, 3.36852838, 3.33480804, 3.5500743 ,\n",
       "       3.46278595, 3.65649187, 3.74525293, 3.4537046 , 3.73794904,\n",
       "       3.65274739, 3.71437394])"
      ]
     },
     "execution_count": 99,
     "metadata": {},
     "output_type": "execute_result"
    }
   ],
   "source": [
    "y_pred"
   ]
  },
  {
   "cell_type": "code",
   "execution_count": 108,
   "id": "ba9d5cf8",
   "metadata": {},
   "outputs": [
    {
     "name": "stdout",
     "output_type": "stream",
     "text": [
      "Mean Squared Error in percentage: 2.36 %\n"
     ]
    }
   ],
   "source": [
    "acc_log = round(reg_model.score(X_test, y_test) * 100, 2)\n",
    "print(\"In percentage:\", acc_log, \"%\")"
   ]
  },
  {
   "cell_type": "code",
   "execution_count": 112,
   "id": "a6ebdf76",
   "metadata": {},
   "outputs": [
    {
     "name": "stdout",
     "output_type": "stream",
     "text": [
      "1344    5\n",
      "2637    3\n",
      "3598    3\n",
      "3615    5\n",
      "1812    4\n",
      "       ..\n",
      "650     3\n",
      "1912    3\n",
      "1116    4\n",
      "1188    4\n",
      "175     3\n",
      "Name: Ratings, Length: 777, dtype: int64\n"
     ]
    }
   ],
   "source": [
    "print(y_test)"
   ]
  },
  {
   "cell_type": "raw",
   "id": "cd16a0f1",
   "metadata": {},
   "source": [
    "# Checking Mean Squared Error"
   ]
  },
  {
   "cell_type": "code",
   "execution_count": 100,
   "id": "8d72b961",
   "metadata": {},
   "outputs": [],
   "source": [
    "from sklearn.metrics import mean_squared_error"
   ]
  },
  {
   "cell_type": "raw",
   "id": "fe0c73fa",
   "metadata": {},
   "source": [
    "# Evaluate the model"
   ]
  },
  {
   "cell_type": "code",
   "execution_count": 109,
   "id": "ef186fde",
   "metadata": {},
   "outputs": [
    {
     "name": "stdout",
     "output_type": "stream",
     "text": [
      "Mean Squared Error: 1.1411877244918749\n"
     ]
    }
   ],
   "source": [
    "mse = mean_squared_error(y_test, y_pred)\n",
    "print(f'Mean Squared Error: {mse}')"
   ]
  },
  {
   "cell_type": "code",
   "execution_count": 110,
   "id": "8437db80",
   "metadata": {},
   "outputs": [
    {
     "name": "stdout",
     "output_type": "stream",
     "text": [
      "Mean Squared Error in percentage: 28.529693112296872 %\n"
     ]
    }
   ],
   "source": [
    "# ratings are from 1 to 5\n",
    "total_variance = 4\n",
    "\n",
    "percentage_error = (mse / total_variance) * 100\n",
    "\n",
    "print(\"Mean Squared Error in percentage:\", percentage_error, \"%\")"
   ]
  },
  {
   "cell_type": "code",
   "execution_count": null,
   "id": "015f815d",
   "metadata": {},
   "outputs": [],
   "source": []
  },
  {
   "cell_type": "code",
   "execution_count": null,
   "id": "548ff26c",
   "metadata": {},
   "outputs": [],
   "source": []
  },
  {
   "cell_type": "code",
   "execution_count": null,
   "id": "578983d8",
   "metadata": {},
   "outputs": [],
   "source": []
  },
  {
   "cell_type": "code",
   "execution_count": null,
   "id": "a41eb657",
   "metadata": {},
   "outputs": [],
   "source": []
  },
  {
   "cell_type": "code",
   "execution_count": null,
   "id": "66cda359",
   "metadata": {},
   "outputs": [],
   "source": []
  },
  {
   "cell_type": "code",
   "execution_count": null,
   "id": "b12fa8d7",
   "metadata": {},
   "outputs": [],
   "source": []
  },
  {
   "cell_type": "code",
   "execution_count": null,
   "id": "3403461e",
   "metadata": {},
   "outputs": [],
   "source": []
  },
  {
   "cell_type": "code",
   "execution_count": null,
   "id": "04447d4f",
   "metadata": {},
   "outputs": [],
   "source": []
  },
  {
   "cell_type": "code",
   "execution_count": null,
   "id": "d472504f",
   "metadata": {},
   "outputs": [],
   "source": []
  },
  {
   "cell_type": "code",
   "execution_count": null,
   "id": "0ac8c31d",
   "metadata": {},
   "outputs": [],
   "source": []
  }
 ],
 "metadata": {
  "kernelspec": {
   "display_name": "Python 3 (ipykernel)",
   "language": "python",
   "name": "python3"
  },
  "language_info": {
   "codemirror_mode": {
    "name": "ipython",
    "version": 3
   },
   "file_extension": ".py",
   "mimetype": "text/x-python",
   "name": "python",
   "nbconvert_exporter": "python",
   "pygments_lexer": "ipython3",
   "version": "3.11.3"
  }
 },
 "nbformat": 4,
 "nbformat_minor": 5
}
